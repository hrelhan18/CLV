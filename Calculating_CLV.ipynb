{
 "cells": [
  {
   "cell_type": "markdown",
   "metadata": {},
   "source": [
    "# Customer Lifetime Value\n",
    "\n",
    "### In this notebook we'll be calculating customer lifetime value in an e-commerce setting, using PySpark. We'll go through the process step by step. Some of the data has been pre-computed for simplicity's sake."
   ]
  },
  {
   "cell_type": "code",
   "execution_count": 1,
   "metadata": {},
   "outputs": [],
   "source": [
    "import pandas as pd\n",
    "import pyspark\n",
    "import matplotlib.pyplot as plt\n",
    "from pyspark.sql import SparkSession\n",
    "from pyspark.sql.functions import udf\n",
    "from pyspark.sql.types import DoubleType, IntegerType, StringType, StructType, StructField, FloatType\n",
    "spark = SparkSession.builder.getOrCreate()"
   ]
  },
  {
   "cell_type": "markdown",
   "metadata": {},
   "source": [
    "## 1. Import data. We import our Recency, Frequency, and Monetary values from the training set, and the dataframe of users who have shopped in the testing set. We also import a dataframe that gives the average spend of a shopper. Note that for the train-test split, we could use the train set as visitors to our site who have shopped in the first 6 months of the year, and the test set could be shoppers who have visited in the 2 months after that. \n",
    "\n",
    "## Note that R, F, M values have been calculated using K-means clustering. Recency is average number of days since last a user has last shopped, Frequency is the average number of times they visit in a period, and Monetary is the average spend per visit."
   ]
  },
  {
   "cell_type": "code",
   "execution_count": 2,
   "metadata": {},
   "outputs": [],
   "source": [
    "cluster_schema = StructType([ \n",
    "     StructField('user_id', DoubleType(), True),\n",
    "    StructField('R', IntegerType(), True),\n",
    "    StructField('F', IntegerType(), True),\n",
    "    StructField('M', IntegerType(), True)\n",
    "    ])\n",
    "\n",
    "user_schema = StructType([ \n",
    "     StructField('user_id', DoubleType(), True)\n",
    "    ])\n",
    "\n",
    "spend_schema = StructType([ \n",
    "     StructField('user_id', DoubleType(), True),\n",
    "     StructField('spend', DoubleType(), True)\n",
    "    ])\n",
    "\n",
    "# Load R,F,M data for shoppers in the train set\n",
    "cluster_data = spark.read.load('/home/serena/workspace/Code/cluster_data.csv',format='csv', schema=cluster_schema)\n",
    "cluster_data.createOrReplaceTempView(\"train\")\n",
    "# Load users who have purchased in the test set\n",
    "user_data = spark.read.load('/home/serena/workspace/Code/forecast_data.csv',format='csv', schema=user_schema)\n",
    "user_data.createOrReplaceTempView(\"test\")\n",
    "# Load avg spend (in the time period) of shoppers\n",
    "spend_data = spark.read.load('/home/serena/workspace/Code/spend_data.csv',format='csv', schema=spend_schema)\n",
    "spend_data.createOrReplaceTempView(\"spend\")"
   ]
  },
  {
   "cell_type": "markdown",
   "metadata": {},
   "source": [
    "## 2. Check if users who shopped in the training period also shopped in the test period. If so, label a new column \"buy\" with 1, if not, label \"buy\" with 0."
   ]
  },
  {
   "cell_type": "code",
   "execution_count": 3,
   "metadata": {},
   "outputs": [
    {
     "name": "stdout",
     "output_type": "stream",
     "text": [
      "+---------------+---+---+---+---+\n",
      "|        user_id|  R|  F|  M|Buy|\n",
      "+---------------+---+---+---+---+\n",
      "|4.0012107961E10|  3|  1|  0|  1|\n",
      "|4.0139104351E10|  0|  0|  7|  1|\n",
      "|4.0174106261E10|  5|  1|  6|  0|\n",
      "|4.0200105444E10|  2|  1|  6|  1|\n",
      "|4.0200120387E10|  7|  5|  2|  1|\n",
      "+---------------+---+---+---+---+\n",
      "only showing top 5 rows\n",
      "\n"
     ]
    }
   ],
   "source": [
    "q = '''\n",
    "    select DISTINCT A.*, \n",
    "       CASE WHEN B.user_id IS NOT NULL\n",
    "       THEN 1\n",
    "       ELSE 0\n",
    "       END Buy\n",
    "    from train A\n",
    "    left join test B\n",
    "    on A.user_id = B.user_id\n",
    "'''\n",
    "final_df = spark.sql(q)\n",
    "final_df.createOrReplaceTempView(\"final_df\")\n",
    "final_df.show(5)"
   ]
  },
  {
   "cell_type": "markdown",
   "metadata": {},
   "source": [
    "## 3. For each cluster type, calculate the percentage of shoppers who repurchased in the test period. Plot percentage vs cluster values. This is done to see if there's a relationship between repurhcase rate and the R, F, M values. Depending on the results we'll use all variables, a pair, or just 1 to calculate retention rate."
   ]
  },
  {
   "cell_type": "code",
   "execution_count": 4,
   "metadata": {},
   "outputs": [
    {
     "name": "stdout",
     "output_type": "stream",
     "text": [
      "+--------+\n",
      "|count(1)|\n",
      "+--------+\n",
      "|    9397|\n",
      "+--------+\n",
      "\n"
     ]
    }
   ],
   "source": [
    "# Get total number of shoppers\n",
    "total_shoppers_q = '''\n",
    "SELECT COUNT(*) FROM final_df\n",
    "'''\n",
    "spark.sql(total_shoppers_q).show()"
   ]
  },
  {
   "cell_type": "code",
   "execution_count": 5,
   "metadata": {},
   "outputs": [
    {
     "name": "stdout",
     "output_type": "stream",
     "text": [
      "+------+---+\n",
      "|   pct|  M|\n",
      "+------+---+\n",
      "|0.0548|  1|\n",
      "|0.1817|  6|\n",
      "|0.0229|  3|\n",
      "|0.0076|  5|\n",
      "|0.0013|  9|\n",
      "+------+---+\n",
      "only showing top 5 rows\n",
      "\n"
     ]
    }
   ],
   "source": [
    "R_df = spark.sql('''\n",
    "SELECT ROUND(COUNT(*)/9397,4) as pct, R \n",
    "FROM final_df\n",
    "WHERE Buy == 1\n",
    "GROUP BY R\n",
    "''')\n",
    "F_df = spark.sql('''\n",
    "SELECT ROUND(COUNT(*)/9397,4) as pct, F\n",
    "FROM final_df\n",
    "WHERE Buy == 1\n",
    "GROUP BY F\n",
    "''')\n",
    "M_df = spark.sql('''\n",
    "SELECT ROUND(COUNT(*)/9397,4) as pct, M\n",
    "FROM final_df\n",
    "WHERE Buy == 1\n",
    "GROUP BY M\n",
    "''')\n",
    "# Let's look at what the M dataframe looks like\n",
    "M_df.show(5)"
   ]
  },
  {
   "cell_type": "code",
   "execution_count": 6,
   "metadata": {},
   "outputs": [
    {
     "data": {
      "text/plain": [
       "<matplotlib.axes._subplots.AxesSubplot at 0x7f48fc67b5f8>"
      ]
     },
     "execution_count": 6,
     "metadata": {},
     "output_type": "execute_result"
    },
    {
     "data": {
      "image/png": "[encoded data removed]",
      "text/plain": [
       "<matplotlib.figure.Figure at 0x7f4929007f60>"
      ]
     },
     "metadata": {},
     "output_type": "display_data"
    }
   ],
   "source": [
    "# Convert to pandas for plotting sake\n",
    "R_df.toPandas().plot(x=\"R\", y=\"pct\", kind='scatter')"
   ]
  },
  {
   "cell_type": "code",
   "execution_count": 7,
   "metadata": {},
   "outputs": [
    {
     "data": {
      "text/plain": [
       "<matplotlib.axes._subplots.AxesSubplot at 0x7f48fc35fbe0>"
      ]
     },
     "execution_count": 7,
     "metadata": {},
     "output_type": "execute_result"
    },
    {
     "data": {
      "image/png": "[encoded data removed]",
      "text/plain": [
       "<matplotlib.figure.Figure at 0x7f49206b3630>"
      ]
     },
     "metadata": {},
     "output_type": "display_data"
    }
   ],
   "source": [
    "# Convert to pandas for plotting sake\n",
    "F_df.toPandas().plot(x=\"F\", y=\"pct\", kind='scatter')"
   ]
  },
  {
   "cell_type": "code",
   "execution_count": 8,
   "metadata": {},
   "outputs": [
    {
     "data": {
      "text/plain": [
       "<matplotlib.axes._subplots.AxesSubplot at 0x7f48fc333b00>"
      ]
     },
     "execution_count": 8,
     "metadata": {},
     "output_type": "execute_result"
    },
    {
     "data": {
      "image/png": "[encoded data removed]",
      "text/plain": [
       "<matplotlib.figure.Figure at 0x7f48fc34d3c8>"
      ]
     },
     "metadata": {},
     "output_type": "display_data"
    }
   ],
   "source": [
    "# Convert to pandas for plotting sake\n",
    "M_df.toPandas().plot(x=\"M\", y=\"pct\", kind='scatter')"
   ]
  },
  {
   "cell_type": "markdown",
   "metadata": {},
   "source": [
    "## Ok, so this looks pretty bad. The data sample wasn't good. Well, let's continue on pretending that there was a clear relationship between R, F, M and retention rate.\n",
    "## 4. Build a simple churn prediction model to estimate repurchase rate for each user. We'll use logistic regression for our model, with R, F, M values as our features."
   ]
  },
  {
   "cell_type": "code",
   "execution_count": 9,
   "metadata": {},
   "outputs": [],
   "source": [
    "from pyspark.ml.classification import LogisticRegression\n",
    "from pyspark.ml.feature import VectorAssembler, StandardScaler\n",
    "from pyspark.ml.pipeline import Pipeline\n",
    "\n",
    "# Data\n",
    "data = final_df.withColumnRenamed(\"Buy\", \"label\")\n",
    "training_set, testing_set = data.randomSplit([0.75,0.25])\n",
    "\n",
    "# Model and pipeline\n",
    "lr = LogisticRegression()\n",
    "assembler = VectorAssembler(inputCols = [\"R\",\"F\",\"M\"], outputCol=\"features\")\n",
    "pipeline = Pipeline(stages=[assembler,lr])\n",
    "\n",
    "# Fit the pipeline\n",
    "fitted_pipeline = pipeline.fit(training_set)\n",
    "\n",
    "# Get model from the fitted pipeline\n",
    "lrModel = fitted_pipeline.stages[-1]"
   ]
  },
  {
   "cell_type": "markdown",
   "metadata": {},
   "source": [
    "## 5. Using the trained model, use the predict function on the training data. We aren't looking to actually predict anything, we just want to get what their estimated retention rate (or churn prediction) is according to the model.\n",
    "\n",
    "## Note that the \"probability\" value is the shopper's predicted retention rate"
   ]
  },
  {
   "cell_type": "code",
   "execution_count": 10,
   "metadata": {},
   "outputs": [
    {
     "name": "stdout",
     "output_type": "stream",
     "text": [
      "+---------------+--------------------+\n",
      "|        user_id|         probability|\n",
      "+---------------+--------------------+\n",
      "|4.0139104351E10|[0.05226305281064...|\n",
      "|4.0200170448E10|[0.03050619244610...|\n",
      "|4.0200171381E10|[0.06559904646208...|\n",
      "|4.0200570292E10|[0.10562249716665...|\n",
      "|4.0201289392E10|[0.05090490142665...|\n",
      "+---------------+--------------------+\n",
      "only showing top 5 rows\n",
      "\n"
     ]
    }
   ],
   "source": [
    "# Get predictions from the model\n",
    "# The probability value is their retention rate\n",
    "predictions = lrModel.transform(assembler.transform(testing_set)).select(\"user_id\", \"probability\")\n",
    "predictions.show(5)"
   ]
  },
  {
   "cell_type": "markdown",
   "metadata": {},
   "source": [
    "## 6. Get retention rate for each user: this requires a bit of tricky PySpark code"
   ]
  },
  {
   "cell_type": "code",
   "execution_count": 11,
   "metadata": {},
   "outputs": [
    {
     "name": "stdout",
     "output_type": "stream",
     "text": [
      "+--------------+---------------+\n",
      "|retention_rate|        user_id|\n",
      "+--------------+---------------+\n",
      "|     0.9477369|4.0139104351E10|\n",
      "|     0.9694938|4.0200170448E10|\n",
      "|      0.934401|4.0200171381E10|\n",
      "|     0.8943775|4.0200570292E10|\n",
      "|     0.9490951|4.0201289392E10|\n",
      "+--------------+---------------+\n",
      "only showing top 5 rows\n",
      "\n"
     ]
    }
   ],
   "source": [
    "secondelement=udf(lambda v:float(v[1]),FloatType())\n",
    "predictions = (predictions.select(secondelement('probability'), \"user_id\")\n",
    "        .withColumnRenamed(\"<lambda>(probability)\", \"retention_rate\"))\n",
    "predictions.show(5)"
   ]
  },
  {
   "cell_type": "markdown",
   "metadata": {},
   "source": [
    "## 7. Join the retention rate data to the average spend data, so that we have a table with the user's average spend and retention rate. This is what we need to calculate customer lifetime value."
   ]
  },
  {
   "cell_type": "code",
   "execution_count": 12,
   "metadata": {},
   "outputs": [
    {
     "name": "stdout",
     "output_type": "stream",
     "text": [
      "+---------------+--------------+------------------+\n",
      "|        user_id|retention_rate|             spend|\n",
      "+---------------+--------------+------------------+\n",
      "|4.0139104351E10|     0.9477369| 766.3600000000008|\n",
      "|4.0200170448E10|     0.9694938|6255.0099999999275|\n",
      "|4.0200171381E10|      0.934401|  908.550000000001|\n",
      "|4.0200570292E10|     0.8943775|             193.5|\n",
      "|4.0201289392E10|     0.9490951|1534.0700000000006|\n",
      "+---------------+--------------+------------------+\n",
      "only showing top 5 rows\n",
      "\n"
     ]
    }
   ],
   "source": [
    "data = predictions.join(spend_data, how=\"inner\", on =\"user_id\")\n",
    "data.show(5)"
   ]
  },
  {
   "cell_type": "markdown",
   "metadata": {},
   "source": [
    "## 8. Define our CLV equation"
   ]
  },
  {
   "cell_type": "code",
   "execution_count": 13,
   "metadata": {},
   "outputs": [],
   "source": [
    "def calc_clv(df, num_periods, discount):\n",
    "\n",
    "    clv = lambda num_periods, retention, spend, discount: sum(\n",
    "        [spend*(retention/(1 + discount))**t for t in range(1, num_periods + 1)])\n",
    "    clv_rdd = (df.rdd.map(lambda x: (x[\"user_id\"],\n",
    "                                     round(clv(num_periods, x[\"retention_rate\"],\n",
    "                                           x[\"spend\"], discount), 2))))\n",
    "\n",
    "    clv_df = clv_rdd.toDF().withColumnRenamed(\"_1\", \"user_id\").withColumnRenamed(\"_2\", \"CLV\")\n",
    "\n",
    "    return clv_df"
   ]
  },
  {
   "cell_type": "markdown",
   "metadata": {},
   "source": [
    "## 9. Apply our CLV equation: let's use a lifetime of 10 periods, and a discount rate of 0.1."
   ]
  },
  {
   "cell_type": "code",
   "execution_count": 14,
   "metadata": {},
   "outputs": [
    {
     "name": "stdout",
     "output_type": "stream",
     "text": [
      "+---------------+--------+\n",
      "|        user_id|     CLV|\n",
      "+---------------+--------+\n",
      "|4.0139104351E10| 3694.91|\n",
      "|4.0200170448E10|33324.59|\n",
      "|4.0200171381E10|  4123.7|\n",
      "|4.0200570292E10|  735.38|\n",
      "|4.0201289392E10| 7442.23|\n",
      "+---------------+--------+\n",
      "only showing top 5 rows\n",
      "\n"
     ]
    }
   ],
   "source": [
    "lifetime = 10\n",
    "discount = 0.1\n",
    "clv_df = calc_clv(data, 10, 0.1) \n",
    "clv_df.show(5)"
   ]
  },
  {
   "cell_type": "markdown",
   "metadata": {},
   "source": [
    "## And there you have it! Customer lifetime value calculation = complete! \n",
    "#### Now to figure out how useful it is..."
   ]
  }
 ],
 "metadata": {
  "kernelspec": {
   "display_name": "Python 3",
   "language": "python",
   "name": "python3"
  },
  "language_info": {
   "codemirror_mode": {
    "name": "ipython",
    "version": 3
   },
   "file_extension": ".py",
   "mimetype": "text/x-python",
   "name": "python",
   "nbconvert_exporter": "python",
   "pygments_lexer": "ipython3",
   "version": "3.6.4"
  }
 },
 "nbformat": 4,
 "nbformat_minor": 2
}
